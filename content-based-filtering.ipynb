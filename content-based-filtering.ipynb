{
 "cells": [
  {
   "cell_type": "markdown",
   "id": "cfcc6604",
   "metadata": {
    "scrolled": false
   },
   "source": [
    "### Implementation of Content-based Filtering"
   ]
  },
  {
   "cell_type": "code",
   "execution_count": 261,
   "id": "7de99a34",
   "metadata": {},
   "outputs": [],
   "source": [
    "import pandas as pd\n",
    "import time\n",
    "import math\n",
    "import matplotlib.pyplot as plt\n",
    "import seaborn as sns\n",
    "from lenskit.algorithms import Recommender\n",
    "from lenskit.algorithms.user_knn import UserUser\n",
    "from lenskit.algorithms.item_knn import ItemItem\n",
    "from sklearn.manifold import TSNE\n",
    "import plotly.express as px\n",
    "from scipy.stats import pearsonr\n",
    "from sklearn.model_selection import train_test_split\n",
    "from sklearn.svm import SVR\n",
    "from sklearn.preprocessing import StandardScaler\n",
    "from sklearn.metrics import mean_squared_error\n",
    "from sklearn.metrics import mean_absolute_error\n",
    "from math import sqrt\n"
   ]
  },
  {
   "cell_type": "code",
   "execution_count": 2,
   "id": "c90a4fbd",
   "metadata": {},
   "outputs": [],
   "source": [
    "data_folder = 'data/'\n",
    "user_item_ratings_reduced = pd.read_csv(f'{data_folder}user_ratings_reduced.csv')\n",
    "user_item_ratings_reduced = user_item_ratings_reduced.drop(columns=[\"Unnamed: 0\"])\n",
    "item_ratings_df = pd.read_csv(data_folder + 'user_ratings.csv')\n",
    "item_info = pd.read_csv(data_folder + 'games.csv')\n",
    "item_mecahnics = pd.read_csv(data_folder + 'mechanics.csv')\n",
    "item_subcategories = pd.read_csv(data_folder + 'subcategories.csv')\n",
    "item_themes = pd.read_csv(data_folder + 'themes.csv')"
   ]
  },
  {
   "cell_type": "code",
   "execution_count": 89,
   "id": "eb6077c8",
   "metadata": {},
   "outputs": [],
   "source": [
    "# user_item_ratings_reduced['rating'] = user_item_ratings_reduced['rating'].round(0).astype(int)"
   ]
  },
  {
   "cell_type": "code",
   "execution_count": 3,
   "id": "787c0d6d",
   "metadata": {},
   "outputs": [],
   "source": [
    "user_item_rating_count = user_item_ratings_reduced.groupby('user').count()"
   ]
  },
  {
   "cell_type": "code",
   "execution_count": 4,
   "id": "edbda74f",
   "metadata": {},
   "outputs": [],
   "source": [
    "min_rating_count = 10\n",
    "user_rating_count = user_item_rating_count[user_item_rating_count['rating'] >= min_rating_count]"
   ]
  },
  {
   "cell_type": "code",
   "execution_count": 5,
   "id": "0f0cc3eb",
   "metadata": {},
   "outputs": [],
   "source": [
    "user_list_filtered = list(user_rating_count.index)"
   ]
  },
  {
   "cell_type": "code",
   "execution_count": 6,
   "id": "cec40a8b",
   "metadata": {},
   "outputs": [],
   "source": [
    "user_item_ratings_filtered = user_item_ratings_reduced[user_item_ratings_reduced['user'].isin(user_list_filtered)]"
   ]
  },
  {
   "cell_type": "code",
   "execution_count": 7,
   "id": "47e19bb9",
   "metadata": {},
   "outputs": [
    {
     "data": {
      "text/html": [
       "<div>\n",
       "<style scoped>\n",
       "    .dataframe tbody tr th:only-of-type {\n",
       "        vertical-align: middle;\n",
       "    }\n",
       "\n",
       "    .dataframe tbody tr th {\n",
       "        vertical-align: top;\n",
       "    }\n",
       "\n",
       "    .dataframe thead th {\n",
       "        text-align: right;\n",
       "    }\n",
       "</style>\n",
       "<table border=\"1\" class=\"dataframe\">\n",
       "  <thead>\n",
       "    <tr style=\"text-align: right;\">\n",
       "      <th></th>\n",
       "      <th>item</th>\n",
       "      <th>rating</th>\n",
       "      <th>user</th>\n",
       "    </tr>\n",
       "  </thead>\n",
       "  <tbody>\n",
       "    <tr>\n",
       "      <th>1</th>\n",
       "      <td>203416</td>\n",
       "      <td>8.0</td>\n",
       "      <td>-=Yod@=-</td>\n",
       "    </tr>\n",
       "    <tr>\n",
       "      <th>2</th>\n",
       "      <td>271896</td>\n",
       "      <td>8.0</td>\n",
       "      <td>-=Yod@=-</td>\n",
       "    </tr>\n",
       "    <tr>\n",
       "      <th>3</th>\n",
       "      <td>38054</td>\n",
       "      <td>6.0</td>\n",
       "      <td>-=Yod@=-</td>\n",
       "    </tr>\n",
       "    <tr>\n",
       "      <th>4</th>\n",
       "      <td>312267</td>\n",
       "      <td>5.0</td>\n",
       "      <td>-=Yod@=-</td>\n",
       "    </tr>\n",
       "    <tr>\n",
       "      <th>5</th>\n",
       "      <td>68448</td>\n",
       "      <td>9.0</td>\n",
       "      <td>-=Yod@=-</td>\n",
       "    </tr>\n",
       "  </tbody>\n",
       "</table>\n",
       "</div>"
      ],
      "text/plain": [
       "     item  rating      user\n",
       "1  203416     8.0  -=Yod@=-\n",
       "2  271896     8.0  -=Yod@=-\n",
       "3   38054     6.0  -=Yod@=-\n",
       "4  312267     5.0  -=Yod@=-\n",
       "5   68448     9.0  -=Yod@=-"
      ]
     },
     "execution_count": 7,
     "metadata": {},
     "output_type": "execute_result"
    }
   ],
   "source": [
    "user_item_ratings_filtered.head()"
   ]
  },
  {
   "cell_type": "markdown",
   "id": "a3cf9602",
   "metadata": {},
   "source": [
    "### Preprocessing"
   ]
  },
  {
   "cell_type": "code",
   "execution_count": 8,
   "id": "00578f2e",
   "metadata": {},
   "outputs": [],
   "source": [
    "# item_ratings_df = pd.read_csv(data_folder + 'user_ratings.csv')\n",
    "# item_info = pd.read_csv(data_folder + 'games.csv')\n",
    "# item_mecahnics = pd.read_csv(data_folder + 'mechanics.csv')\n",
    "# item_subcategories = pd.read_csv(data_folder + 'subcategories.csv')\n",
    "# item_themes = pd.read_csv(data_folder + 'themes.csv')"
   ]
  },
  {
   "cell_type": "code",
   "execution_count": 9,
   "id": "9f0f4bcb",
   "metadata": {},
   "outputs": [],
   "source": [
    "item_info.rename(columns={'BGGId':'item'},inplace=True)"
   ]
  },
  {
   "cell_type": "code",
   "execution_count": 10,
   "id": "2ac8504c",
   "metadata": {},
   "outputs": [],
   "source": [
    "# get comeplete user-catalog data\n",
    "user_item_complete = pd.merge(user_item_ratings_filtered, item_info, on='item', how='inner')"
   ]
  },
  {
   "cell_type": "code",
   "execution_count": 11,
   "id": "5a5396f7",
   "metadata": {},
   "outputs": [],
   "source": [
    "# item_info.info() \n",
    "# item_info[['GoodPlayers', 'Family', 'ImagePath']].head()\n",
    "non_numerical_features = ['user','Name','Description', 'item', 'GoodPlayers', 'Family', 'ImagePath']"
   ]
  },
  {
   "cell_type": "code",
   "execution_count": 12,
   "id": "f4d06d3d",
   "metadata": {},
   "outputs": [
    {
     "data": {
      "text/plain": [
       "Index(['item', 'rating', 'user', 'Name', 'Description', 'YearPublished',\n",
       "       'GameWeight', 'AvgRating', 'BayesAvgRating', 'StdDev', 'MinPlayers',\n",
       "       'MaxPlayers', 'ComAgeRec', 'LanguageEase', 'BestPlayers', 'GoodPlayers',\n",
       "       'NumOwned', 'NumWant', 'NumWish', 'NumWeightVotes', 'MfgPlaytime',\n",
       "       'ComMinPlaytime', 'ComMaxPlaytime', 'MfgAgeRec', 'NumUserRatings',\n",
       "       'NumComments', 'NumAlternates', 'NumExpansions', 'NumImplementations',\n",
       "       'IsReimplementation', 'Family', 'Kickstarted', 'ImagePath',\n",
       "       'Rank:boardgame', 'Rank:strategygames', 'Rank:abstracts',\n",
       "       'Rank:familygames', 'Rank:thematic', 'Rank:cgs', 'Rank:wargames',\n",
       "       'Rank:partygames', 'Rank:childrensgames', 'Cat:Thematic',\n",
       "       'Cat:Strategy', 'Cat:War', 'Cat:Family', 'Cat:CGS', 'Cat:Abstract',\n",
       "       'Cat:Party', 'Cat:Childrens'],\n",
       "      dtype='object')"
      ]
     },
     "execution_count": 12,
     "metadata": {},
     "output_type": "execute_result"
    }
   ],
   "source": [
    "user_item_complete.columns"
   ]
  },
  {
   "cell_type": "code",
   "execution_count": 13,
   "id": "9f744423",
   "metadata": {},
   "outputs": [],
   "source": [
    "# find a median rating for each user\n",
    "median_rating = user_item_complete.groupby('user')['rating'].median().rename('median_rating').reset_index()"
   ]
  },
  {
   "cell_type": "code",
   "execution_count": 14,
   "id": "dc27bb85",
   "metadata": {},
   "outputs": [],
   "source": [
    "user_item_complete = pd.merge(user_item_complete, median_rating, on='user', how='inner')"
   ]
  },
  {
   "cell_type": "code",
   "execution_count": 15,
   "id": "060e8953",
   "metadata": {},
   "outputs": [
    {
     "data": {
      "text/plain": [
       "(1228331, 51)"
      ]
     },
     "execution_count": 15,
     "metadata": {},
     "output_type": "execute_result"
    }
   ],
   "source": [
    "user_item_complete.shape"
   ]
  },
  {
   "cell_type": "markdown",
   "id": "123d4756",
   "metadata": {},
   "source": [
    "User-Item matrix has size (1_228_331, 51) after selecting users with >= `min_rating_count`\n",
    "\n",
    "User-Item matrix has size (771_551, 51) after selecting items for users with rating higher than their mean rating"
   ]
  },
  {
   "cell_type": "code",
   "execution_count": 16,
   "id": "c10861d6",
   "metadata": {},
   "outputs": [],
   "source": [
    "user_item_favourite = user_item_complete[user_item_complete['rating']>=user_item_complete['median_rating']]"
   ]
  },
  {
   "cell_type": "code",
   "execution_count": 17,
   "id": "d180e6c4",
   "metadata": {},
   "outputs": [
    {
     "name": "stderr",
     "output_type": "stream",
     "text": [
      "/var/folders/ys/q3jzjbwd6jv2_whcbxy4d7vh0000gn/T/ipykernel_26424/4043889100.py:1: SettingWithCopyWarning: \n",
      "A value is trying to be set on a copy of a slice from a DataFrame\n",
      "\n",
      "See the caveats in the documentation: https://pandas.pydata.org/pandas-docs/stable/user_guide/indexing.html#returning-a-view-versus-a-copy\n",
      "  user_item_favourite['ComAgeRec'].fillna(user_item_favourite['ComAgeRec'].mean(), inplace=True)\n",
      "/var/folders/ys/q3jzjbwd6jv2_whcbxy4d7vh0000gn/T/ipykernel_26424/4043889100.py:2: SettingWithCopyWarning: \n",
      "A value is trying to be set on a copy of a slice from a DataFrame\n",
      "\n",
      "See the caveats in the documentation: https://pandas.pydata.org/pandas-docs/stable/user_guide/indexing.html#returning-a-view-versus-a-copy\n",
      "  user_item_favourite['LanguageEase'].fillna(user_item_favourite['LanguageEase'].mean(), inplace=True)\n"
     ]
    }
   ],
   "source": [
    "user_item_favourite['ComAgeRec'].fillna(user_item_favourite['ComAgeRec'].mean(), inplace=True)\n",
    "user_item_favourite['LanguageEase'].fillna(user_item_favourite['LanguageEase'].mean(), inplace=True)"
   ]
  },
  {
   "cell_type": "code",
   "execution_count": 18,
   "id": "20ff058d",
   "metadata": {},
   "outputs": [
    {
     "name": "stderr",
     "output_type": "stream",
     "text": [
      "/var/folders/ys/q3jzjbwd6jv2_whcbxy4d7vh0000gn/T/ipykernel_26424/320511945.py:1: FutureWarning: The default value of numeric_only in DataFrameGroupBy.median is deprecated. In a future version, numeric_only will default to False. Either specify numeric_only or select only columns which should be valid for the function.\n",
      "  user_representation = user_item_favourite.groupby('user').median().reset_index()\n"
     ]
    }
   ],
   "source": [
    "user_representation = user_item_favourite.groupby('user').median().reset_index()\n",
    "user_representation_wnames = user_representation['user']\n",
    "user_representation.drop(columns=['user'], inplace=True)"
   ]
  },
  {
   "cell_type": "code",
   "execution_count": 19,
   "id": "5c41bd74",
   "metadata": {},
   "outputs": [
    {
     "name": "stderr",
     "output_type": "stream",
     "text": [
      "/var/folders/ys/q3jzjbwd6jv2_whcbxy4d7vh0000gn/T/ipykernel_26424/1451119071.py:1: SettingWithCopyWarning: \n",
      "A value is trying to be set on a copy of a slice from a DataFrame\n",
      "\n",
      "See the caveats in the documentation: https://pandas.pydata.org/pandas-docs/stable/user_guide/indexing.html#returning-a-view-versus-a-copy\n",
      "  user_item_favourite.drop(columns=non_numerical_features, inplace=True)\n"
     ]
    }
   ],
   "source": [
    "user_item_favourite.drop(columns=non_numerical_features, inplace=True)"
   ]
  },
  {
   "cell_type": "code",
   "execution_count": 20,
   "id": "c7c8e715",
   "metadata": {},
   "outputs": [
    {
     "data": {
      "text/html": [
       "<div>\n",
       "<style scoped>\n",
       "    .dataframe tbody tr th:only-of-type {\n",
       "        vertical-align: middle;\n",
       "    }\n",
       "\n",
       "    .dataframe tbody tr th {\n",
       "        vertical-align: top;\n",
       "    }\n",
       "\n",
       "    .dataframe thead th {\n",
       "        text-align: right;\n",
       "    }\n",
       "</style>\n",
       "<table border=\"1\" class=\"dataframe\">\n",
       "  <thead>\n",
       "    <tr style=\"text-align: right;\">\n",
       "      <th></th>\n",
       "      <th>item</th>\n",
       "      <th>rating</th>\n",
       "      <th>YearPublished</th>\n",
       "      <th>GameWeight</th>\n",
       "      <th>AvgRating</th>\n",
       "      <th>BayesAvgRating</th>\n",
       "      <th>StdDev</th>\n",
       "      <th>MinPlayers</th>\n",
       "      <th>MaxPlayers</th>\n",
       "      <th>ComAgeRec</th>\n",
       "      <th>...</th>\n",
       "      <th>Rank:childrensgames</th>\n",
       "      <th>Cat:Thematic</th>\n",
       "      <th>Cat:Strategy</th>\n",
       "      <th>Cat:War</th>\n",
       "      <th>Cat:Family</th>\n",
       "      <th>Cat:CGS</th>\n",
       "      <th>Cat:Abstract</th>\n",
       "      <th>Cat:Party</th>\n",
       "      <th>Cat:Childrens</th>\n",
       "      <th>median_rating</th>\n",
       "    </tr>\n",
       "  </thead>\n",
       "  <tbody>\n",
       "    <tr>\n",
       "      <th>0</th>\n",
       "      <td>91536.0</td>\n",
       "      <td>8.0</td>\n",
       "      <td>2011.0</td>\n",
       "      <td>2.42170</td>\n",
       "      <td>7.639870</td>\n",
       "      <td>6.960180</td>\n",
       "      <td>1.355870</td>\n",
       "      <td>2.0</td>\n",
       "      <td>5.0</td>\n",
       "      <td>11.428571</td>\n",
       "      <td>...</td>\n",
       "      <td>21926.0</td>\n",
       "      <td>0.0</td>\n",
       "      <td>0.0</td>\n",
       "      <td>0.0</td>\n",
       "      <td>0.0</td>\n",
       "      <td>0.0</td>\n",
       "      <td>0.0</td>\n",
       "      <td>0.0</td>\n",
       "      <td>0.0</td>\n",
       "      <td>7.50</td>\n",
       "    </tr>\n",
       "    <tr>\n",
       "      <th>1</th>\n",
       "      <td>14550.5</td>\n",
       "      <td>6.0</td>\n",
       "      <td>2005.0</td>\n",
       "      <td>1.99675</td>\n",
       "      <td>7.004485</td>\n",
       "      <td>6.829525</td>\n",
       "      <td>1.385465</td>\n",
       "      <td>2.0</td>\n",
       "      <td>5.0</td>\n",
       "      <td>10.825521</td>\n",
       "      <td>...</td>\n",
       "      <td>21926.0</td>\n",
       "      <td>0.0</td>\n",
       "      <td>0.0</td>\n",
       "      <td>0.0</td>\n",
       "      <td>0.0</td>\n",
       "      <td>0.0</td>\n",
       "      <td>0.0</td>\n",
       "      <td>0.0</td>\n",
       "      <td>0.0</td>\n",
       "      <td>5.00</td>\n",
       "    </tr>\n",
       "    <tr>\n",
       "      <th>2</th>\n",
       "      <td>65244.0</td>\n",
       "      <td>8.0</td>\n",
       "      <td>2010.0</td>\n",
       "      <td>2.35710</td>\n",
       "      <td>7.526640</td>\n",
       "      <td>7.187280</td>\n",
       "      <td>1.312320</td>\n",
       "      <td>2.0</td>\n",
       "      <td>5.0</td>\n",
       "      <td>10.285714</td>\n",
       "      <td>...</td>\n",
       "      <td>21926.0</td>\n",
       "      <td>0.0</td>\n",
       "      <td>1.0</td>\n",
       "      <td>0.0</td>\n",
       "      <td>0.0</td>\n",
       "      <td>0.0</td>\n",
       "      <td>0.0</td>\n",
       "      <td>0.0</td>\n",
       "      <td>0.0</td>\n",
       "      <td>7.50</td>\n",
       "    </tr>\n",
       "    <tr>\n",
       "      <th>3</th>\n",
       "      <td>15543.0</td>\n",
       "      <td>7.0</td>\n",
       "      <td>2003.0</td>\n",
       "      <td>1.78265</td>\n",
       "      <td>7.015380</td>\n",
       "      <td>6.285100</td>\n",
       "      <td>1.330330</td>\n",
       "      <td>2.0</td>\n",
       "      <td>5.5</td>\n",
       "      <td>10.333333</td>\n",
       "      <td>...</td>\n",
       "      <td>21926.0</td>\n",
       "      <td>0.0</td>\n",
       "      <td>0.0</td>\n",
       "      <td>0.0</td>\n",
       "      <td>0.0</td>\n",
       "      <td>0.0</td>\n",
       "      <td>0.0</td>\n",
       "      <td>0.0</td>\n",
       "      <td>0.0</td>\n",
       "      <td>6.00</td>\n",
       "    </tr>\n",
       "    <tr>\n",
       "      <th>4</th>\n",
       "      <td>160020.5</td>\n",
       "      <td>7.0</td>\n",
       "      <td>2014.0</td>\n",
       "      <td>3.00730</td>\n",
       "      <td>7.778710</td>\n",
       "      <td>7.022485</td>\n",
       "      <td>1.570085</td>\n",
       "      <td>2.0</td>\n",
       "      <td>5.0</td>\n",
       "      <td>11.548014</td>\n",
       "      <td>...</td>\n",
       "      <td>21926.0</td>\n",
       "      <td>0.0</td>\n",
       "      <td>1.0</td>\n",
       "      <td>0.0</td>\n",
       "      <td>0.0</td>\n",
       "      <td>0.0</td>\n",
       "      <td>0.0</td>\n",
       "      <td>0.0</td>\n",
       "      <td>0.0</td>\n",
       "      <td>7.00</td>\n",
       "    </tr>\n",
       "    <tr>\n",
       "      <th>...</th>\n",
       "      <td>...</td>\n",
       "      <td>...</td>\n",
       "      <td>...</td>\n",
       "      <td>...</td>\n",
       "      <td>...</td>\n",
       "      <td>...</td>\n",
       "      <td>...</td>\n",
       "      <td>...</td>\n",
       "      <td>...</td>\n",
       "      <td>...</td>\n",
       "      <td>...</td>\n",
       "      <td>...</td>\n",
       "      <td>...</td>\n",
       "      <td>...</td>\n",
       "      <td>...</td>\n",
       "      <td>...</td>\n",
       "      <td>...</td>\n",
       "      <td>...</td>\n",
       "      <td>...</td>\n",
       "      <td>...</td>\n",
       "      <td>...</td>\n",
       "    </tr>\n",
       "    <tr>\n",
       "      <th>51144</th>\n",
       "      <td>57479.0</td>\n",
       "      <td>7.0</td>\n",
       "      <td>2009.5</td>\n",
       "      <td>2.91805</td>\n",
       "      <td>7.462140</td>\n",
       "      <td>7.072250</td>\n",
       "      <td>1.350125</td>\n",
       "      <td>2.0</td>\n",
       "      <td>5.0</td>\n",
       "      <td>11.588014</td>\n",
       "      <td>...</td>\n",
       "      <td>21926.0</td>\n",
       "      <td>0.0</td>\n",
       "      <td>1.0</td>\n",
       "      <td>0.0</td>\n",
       "      <td>0.0</td>\n",
       "      <td>0.0</td>\n",
       "      <td>0.0</td>\n",
       "      <td>0.0</td>\n",
       "      <td>0.0</td>\n",
       "      <td>7.00</td>\n",
       "    </tr>\n",
       "    <tr>\n",
       "      <th>51145</th>\n",
       "      <td>181796.0</td>\n",
       "      <td>7.0</td>\n",
       "      <td>2016.0</td>\n",
       "      <td>2.47370</td>\n",
       "      <td>7.535430</td>\n",
       "      <td>7.134710</td>\n",
       "      <td>1.234990</td>\n",
       "      <td>2.0</td>\n",
       "      <td>4.0</td>\n",
       "      <td>10.947368</td>\n",
       "      <td>...</td>\n",
       "      <td>21926.0</td>\n",
       "      <td>0.0</td>\n",
       "      <td>1.0</td>\n",
       "      <td>0.0</td>\n",
       "      <td>0.0</td>\n",
       "      <td>0.0</td>\n",
       "      <td>0.0</td>\n",
       "      <td>0.0</td>\n",
       "      <td>0.0</td>\n",
       "      <td>6.00</td>\n",
       "    </tr>\n",
       "    <tr>\n",
       "      <th>51146</th>\n",
       "      <td>126163.0</td>\n",
       "      <td>7.0</td>\n",
       "      <td>2012.0</td>\n",
       "      <td>3.45860</td>\n",
       "      <td>7.867370</td>\n",
       "      <td>7.621750</td>\n",
       "      <td>1.266160</td>\n",
       "      <td>2.0</td>\n",
       "      <td>4.0</td>\n",
       "      <td>12.000000</td>\n",
       "      <td>...</td>\n",
       "      <td>21926.0</td>\n",
       "      <td>0.0</td>\n",
       "      <td>1.0</td>\n",
       "      <td>0.0</td>\n",
       "      <td>0.0</td>\n",
       "      <td>0.0</td>\n",
       "      <td>0.0</td>\n",
       "      <td>0.0</td>\n",
       "      <td>0.0</td>\n",
       "      <td>7.00</td>\n",
       "    </tr>\n",
       "    <tr>\n",
       "      <th>51147</th>\n",
       "      <td>165986.0</td>\n",
       "      <td>7.0</td>\n",
       "      <td>2014.0</td>\n",
       "      <td>2.08330</td>\n",
       "      <td>7.164790</td>\n",
       "      <td>6.696380</td>\n",
       "      <td>1.307330</td>\n",
       "      <td>2.0</td>\n",
       "      <td>5.0</td>\n",
       "      <td>9.629032</td>\n",
       "      <td>...</td>\n",
       "      <td>21926.0</td>\n",
       "      <td>0.0</td>\n",
       "      <td>0.0</td>\n",
       "      <td>0.0</td>\n",
       "      <td>0.0</td>\n",
       "      <td>0.0</td>\n",
       "      <td>0.0</td>\n",
       "      <td>0.0</td>\n",
       "      <td>0.0</td>\n",
       "      <td>6.25</td>\n",
       "    </tr>\n",
       "    <tr>\n",
       "      <th>51148</th>\n",
       "      <td>73439.0</td>\n",
       "      <td>8.0</td>\n",
       "      <td>2010.0</td>\n",
       "      <td>1.81250</td>\n",
       "      <td>7.398300</td>\n",
       "      <td>7.089370</td>\n",
       "      <td>1.306050</td>\n",
       "      <td>2.0</td>\n",
       "      <td>4.0</td>\n",
       "      <td>10.229885</td>\n",
       "      <td>...</td>\n",
       "      <td>21926.0</td>\n",
       "      <td>0.0</td>\n",
       "      <td>0.0</td>\n",
       "      <td>0.0</td>\n",
       "      <td>0.0</td>\n",
       "      <td>0.0</td>\n",
       "      <td>0.0</td>\n",
       "      <td>0.0</td>\n",
       "      <td>0.0</td>\n",
       "      <td>7.50</td>\n",
       "    </tr>\n",
       "  </tbody>\n",
       "</table>\n",
       "<p>51149 rows × 45 columns</p>\n",
       "</div>"
      ],
      "text/plain": [
       "           item  rating  YearPublished  GameWeight  AvgRating  BayesAvgRating  \\\n",
       "0       91536.0     8.0         2011.0     2.42170   7.639870        6.960180   \n",
       "1       14550.5     6.0         2005.0     1.99675   7.004485        6.829525   \n",
       "2       65244.0     8.0         2010.0     2.35710   7.526640        7.187280   \n",
       "3       15543.0     7.0         2003.0     1.78265   7.015380        6.285100   \n",
       "4      160020.5     7.0         2014.0     3.00730   7.778710        7.022485   \n",
       "...         ...     ...            ...         ...        ...             ...   \n",
       "51144   57479.0     7.0         2009.5     2.91805   7.462140        7.072250   \n",
       "51145  181796.0     7.0         2016.0     2.47370   7.535430        7.134710   \n",
       "51146  126163.0     7.0         2012.0     3.45860   7.867370        7.621750   \n",
       "51147  165986.0     7.0         2014.0     2.08330   7.164790        6.696380   \n",
       "51148   73439.0     8.0         2010.0     1.81250   7.398300        7.089370   \n",
       "\n",
       "         StdDev  MinPlayers  MaxPlayers  ComAgeRec  ...  Rank:childrensgames  \\\n",
       "0      1.355870         2.0         5.0  11.428571  ...              21926.0   \n",
       "1      1.385465         2.0         5.0  10.825521  ...              21926.0   \n",
       "2      1.312320         2.0         5.0  10.285714  ...              21926.0   \n",
       "3      1.330330         2.0         5.5  10.333333  ...              21926.0   \n",
       "4      1.570085         2.0         5.0  11.548014  ...              21926.0   \n",
       "...         ...         ...         ...        ...  ...                  ...   \n",
       "51144  1.350125         2.0         5.0  11.588014  ...              21926.0   \n",
       "51145  1.234990         2.0         4.0  10.947368  ...              21926.0   \n",
       "51146  1.266160         2.0         4.0  12.000000  ...              21926.0   \n",
       "51147  1.307330         2.0         5.0   9.629032  ...              21926.0   \n",
       "51148  1.306050         2.0         4.0  10.229885  ...              21926.0   \n",
       "\n",
       "       Cat:Thematic  Cat:Strategy  Cat:War  Cat:Family  Cat:CGS  Cat:Abstract  \\\n",
       "0               0.0           0.0      0.0         0.0      0.0           0.0   \n",
       "1               0.0           0.0      0.0         0.0      0.0           0.0   \n",
       "2               0.0           1.0      0.0         0.0      0.0           0.0   \n",
       "3               0.0           0.0      0.0         0.0      0.0           0.0   \n",
       "4               0.0           1.0      0.0         0.0      0.0           0.0   \n",
       "...             ...           ...      ...         ...      ...           ...   \n",
       "51144           0.0           1.0      0.0         0.0      0.0           0.0   \n",
       "51145           0.0           1.0      0.0         0.0      0.0           0.0   \n",
       "51146           0.0           1.0      0.0         0.0      0.0           0.0   \n",
       "51147           0.0           0.0      0.0         0.0      0.0           0.0   \n",
       "51148           0.0           0.0      0.0         0.0      0.0           0.0   \n",
       "\n",
       "       Cat:Party  Cat:Childrens  median_rating  \n",
       "0            0.0            0.0           7.50  \n",
       "1            0.0            0.0           5.00  \n",
       "2            0.0            0.0           7.50  \n",
       "3            0.0            0.0           6.00  \n",
       "4            0.0            0.0           7.00  \n",
       "...          ...            ...            ...  \n",
       "51144        0.0            0.0           7.00  \n",
       "51145        0.0            0.0           6.00  \n",
       "51146        0.0            0.0           7.00  \n",
       "51147        0.0            0.0           6.25  \n",
       "51148        0.0            0.0           7.50  \n",
       "\n",
       "[51149 rows x 45 columns]"
      ]
     },
     "execution_count": 20,
     "metadata": {},
     "output_type": "execute_result"
    }
   ],
   "source": [
    "user_representation"
   ]
  },
  {
   "cell_type": "markdown",
   "id": "a7c4f119",
   "metadata": {},
   "source": [
    "### Analysis of user preference clusters\n",
    " > based on TSNE clusterings of users with similar preferences, several groups of users were investigated to check if there are differences in prederences between clusters. The analysis showed that all the groups have approximately similar preferences. Hence, no need to create different features per user group"
   ]
  },
  {
   "cell_type": "code",
   "execution_count": 270,
   "id": "6a09a359",
   "metadata": {},
   "outputs": [],
   "source": [
    "# scaler = StandardScaler()\n",
    "# scaled_user_represenation = scaler.fit_transform(user_representation)"
   ]
  },
  {
   "cell_type": "code",
   "execution_count": 271,
   "id": "e0d6f99f",
   "metadata": {},
   "outputs": [],
   "source": [
    "# tsne = TSNE(n_components=2, verbose=0, perplexity=50, n_iter=500)\n",
    "# user_clusters = tsne.fit_transform(scaled_user_represenation)"
   ]
  },
  {
   "cell_type": "code",
   "execution_count": 272,
   "id": "d71a8b3a",
   "metadata": {},
   "outputs": [],
   "source": [
    "# user_representation['tsne-2d-one'] = user_clusters[:,0]\n",
    "# user_representation['tsne-2d-two'] = user_clusters[:,1]\n",
    "\n",
    "# plt.figure(figsize=(16,10))\n",
    "# sns.scatterplot(\n",
    "#     x=\"tsne-2d-one\", y=\"tsne-2d-two\",\n",
    "#     palette=sns.color_palette(\"hls\", 10),\n",
    "#     data=user_representation,\n",
    "#     alpha=0.3,\n",
    "# )"
   ]
  },
  {
   "cell_type": "code",
   "execution_count": 23,
   "id": "ba7dcac0",
   "metadata": {},
   "outputs": [],
   "source": [
    "# fig = px.scatter(\n",
    "#     user_representation, x=user_representation['tsne-2d-one'], y=user_representation['tsne-2d-two'],\n",
    "# )\n",
    "# fig.show()"
   ]
  },
  {
   "cell_type": "code",
   "execution_count": 24,
   "id": "c7f0caec",
   "metadata": {},
   "outputs": [],
   "source": [
    "# manual cluster extraction using upper left and lower right points\n",
    "# group_1 = [(-11, 16), (12, 9.5)]\n",
    "# group_2 = [(-16, 9.5), (14, 0)]\n",
    "# group_3 = [(-15, 0), (15, -15)]"
   ]
  },
  {
   "cell_type": "code",
   "execution_count": 25,
   "id": "644ffd1a",
   "metadata": {},
   "outputs": [],
   "source": [
    "# coords_groups = [group_1, group_2, group_3]\n",
    "# user_groups = []\n",
    "\n",
    "# for bounds in coords_groups:\n",
    "#     group_users = user_representation[(user_representation['tsne-2d-one'] >= bounds[0][0])&\n",
    "#                                       (user_representation['tsne-2d-one'] <= bounds[1][0])&\n",
    "#                                       (user_representation['tsne-2d-two'] <= bounds[0][1])&\n",
    "#                                       (user_representation['tsne-2d-two'] >= bounds[1][1])]\n",
    "#     user_groups.append(group_users)"
   ]
  },
  {
   "cell_type": "code",
   "execution_count": 27,
   "id": "c9f44813",
   "metadata": {},
   "outputs": [],
   "source": [
    "# group_1 = user_groups[0]\n",
    "# group_2 = user_groups[1]\n",
    "# group_3 = user_groups[2]\n",
    "\n",
    "# group_1 = pd.merge(group_1, user_representation_wnames, left_index=True, right_index=True, how='left')\n",
    "# group_2 = pd.merge(group_2, user_representation_wnames, left_index=True, right_index=True, how='left')\n",
    "# group_3 = pd.merge(group_3, user_representation_wnames, left_index=True, right_index=True, how='left')\n",
    "\n",
    "# group_1_users = group_1.user\n",
    "# group_2_users = group_2.user\n",
    "# group_3_users = group_3.user"
   ]
  },
  {
   "cell_type": "code",
   "execution_count": 29,
   "id": "bf63c1ca",
   "metadata": {},
   "outputs": [],
   "source": [
    "def get_all_items_for_user(username, complete_df):\n",
    "    return complete_df[complete_df['user']==username].drop(columns=['user'])  "
   ]
  },
  {
   "cell_type": "code",
   "execution_count": 32,
   "id": "ffaed3a9",
   "metadata": {},
   "outputs": [],
   "source": [
    "# group_1_itemids = user_item_complete[user_item_complete.user.isin(group_1_users)].item.unique()\n",
    "# group_1_items = user_item_complete[user_item_complete['item'].isin(group_1_itemids)]\n",
    "\n",
    "# group_2_itemids = user_item_complete[user_item_complete.user.isin(group_2_users)].item.unique()\n",
    "# group_2_items = user_item_complete[user_item_complete['item'].isin(group_2_itemids)]\n",
    "\n",
    "# group_3_itemids = user_item_complete[user_item_complete.user.isin(group_3_users)].item.unique()\n",
    "# group_3_items = user_item_complete[user_item_complete['item'].isin(group_3_itemids)]"
   ]
  },
  {
   "cell_type": "code",
   "execution_count": 36,
   "id": "973195e6",
   "metadata": {},
   "outputs": [],
   "source": [
    "def add_avg_group_rating(selected_items, group, complete):\n",
    "    selected_items.reset_index(drop=True, inplace=True)\n",
    "    selected_items['avg_group_rating'] = 0\n",
    "    group_users = group['user'].unique()\n",
    "    for index,item in selected_items.iterrows():\n",
    "        item_in_group = complete[(complete['user'].isin(group_users))&(complete['item']==item['item'])]\n",
    "        average_group_rating = item_in_group['rating'].mean()\n",
    "        item['avg_group_rating'] = average_group_rating\n",
    "        selected_items.iloc[index,:] = item\n",
    "        \n",
    "    return selected_items\n",
    "        "
   ]
  },
  {
   "cell_type": "code",
   "execution_count": 37,
   "id": "86b9efd4",
   "metadata": {},
   "outputs": [],
   "source": [
    "item_group_1 = add_avg_group_rating(group_1_items.sample(frac=0.001, random_state=42), group_1, user_item_complete)\n",
    "item_group_2 = add_avg_group_rating(group_2_items.sample(frac=0.001, random_state=42), group_2, user_item_complete)\n",
    "item_group_3 = add_avg_group_rating(group_3_items.sample(frac=0.001, random_state=42), group_3, user_item_complete)\n",
    "#item_group_1 = add_avg_group_rating(group_1_items.iloc[0:2,:], group_1, user_item_complete)"
   ]
  },
  {
   "cell_type": "code",
   "execution_count": 51,
   "id": "6fd36746",
   "metadata": {},
   "outputs": [],
   "source": [
    "all_users = pd.merge(user_representation, user_representation_wnames,left_index=True, right_index=True, how='left')\n",
    "all_items = add_avg_group_rating(user_item_complete.sample(frac=0.005, random_state=42), all_users, user_item_complete)"
   ]
  },
  {
   "cell_type": "code",
   "execution_count": 39,
   "id": "cd68251d",
   "metadata": {},
   "outputs": [],
   "source": [
    "# plt.figure(figsize=(16,16))\n",
    "# sns.heatmap(item_group_3.corr())\n",
    "# plt.title('Group 3 Correlation of Features')"
   ]
  },
  {
   "cell_type": "code",
   "execution_count": 40,
   "id": "07328e4a",
   "metadata": {},
   "outputs": [],
   "source": [
    "def test_stat_significance(feature_name, selected_items):\n",
    "    \"\"\" test whether an item feature has statistically significant \n",
    "        correlation (Pearson) with a group rating\n",
    "    \"\"\"\n",
    "\n",
    "    feature = selected_items[feature_name].dropna()\n",
    "    ratings = selected_items['avg_group_rating'].reindex(feature.index).values\n",
    "    feature = feature.values\n",
    "    \n",
    "    r, p = pearsonr(ratings, feature)\n",
    "    \n",
    "    significant = False\n",
    "    if p < 0.05:\n",
    "        significant = True\n",
    "\n",
    "    print(f'feature {feature_name} has p-value {round(p,2)}, significant: {significant}, correlation: {round(r,2)}')\n",
    "    return r, significant\n",
    "    "
   ]
  },
  {
   "cell_type": "code",
   "execution_count": 41,
   "id": "5bc61564",
   "metadata": {},
   "outputs": [],
   "source": [
    "# test_stat_significance('MinPlayers',item_group_3)"
   ]
  },
  {
   "cell_type": "code",
   "execution_count": 65,
   "id": "a973b94d",
   "metadata": {},
   "outputs": [],
   "source": [
    "def find_group_features(group_items, complete):\n",
    "    features = group_items.columns\n",
    "    group_features = []\n",
    "    for feature_name in features:\n",
    "        if feature_name in non_numerical_features:\n",
    "            continue\n",
    "        \n",
    "        correlation, significant = test_stat_significance(feature_name, group_items)\n",
    "        \n",
    "        if significant and abs(correlation) > 0.10:\n",
    "            group_features.append(feature_name)\n",
    "    return group_features"
   ]
  },
  {
   "cell_type": "code",
   "execution_count": 52,
   "id": "9828b8fa",
   "metadata": {},
   "outputs": [],
   "source": [
    "# group1_features = set(find_group_features(item_group_1, user_item_complete))\n",
    "# group2_features = set(find_group_features(item_group_2, user_item_complete))\n",
    "# group3_features = set(find_group_features(item_group_3, user_item_complete))"
   ]
  },
  {
   "cell_type": "code",
   "execution_count": 60,
   "id": "f7791867",
   "metadata": {},
   "outputs": [
    {
     "name": "stdout",
     "output_type": "stream",
     "text": [
      "feature rating has p-value 0.0, significant: True, correlation: 0.52\n",
      "feature YearPublished has p-value 0.0, significant: True, correlation: 0.07\n",
      "feature GameWeight has p-value 0.0, significant: True, correlation: 0.52\n",
      "feature AvgRating has p-value 0.0, significant: True, correlation: 0.96\n",
      "feature BayesAvgRating has p-value 0.0, significant: True, correlation: 0.79\n",
      "feature StdDev has p-value 0.0, significant: True, correlation: -0.37\n",
      "feature MinPlayers has p-value 0.0, significant: True, correlation: -0.19\n",
      "feature MaxPlayers has p-value 0.0, significant: True, correlation: -0.09\n",
      "feature ComAgeRec has p-value 0.0, significant: True, correlation: 0.37\n",
      "feature LanguageEase has p-value 0.0, significant: True, correlation: -0.15\n",
      "feature BestPlayers has p-value 0.0, significant: True, correlation: 0.28\n",
      "feature NumOwned has p-value 0.0, significant: True, correlation: 0.31\n",
      "feature NumWant has p-value 0.0, significant: True, correlation: 0.62\n",
      "feature NumWish has p-value 0.0, significant: True, correlation: 0.57\n",
      "feature NumWeightVotes has p-value 0.0, significant: True, correlation: 0.26\n",
      "feature MfgPlaytime has p-value 0.0, significant: True, correlation: 0.14\n",
      "feature ComMinPlaytime has p-value 0.0, significant: True, correlation: 0.13\n",
      "feature ComMaxPlaytime has p-value 0.0, significant: True, correlation: 0.14\n",
      "feature MfgAgeRec has p-value 0.0, significant: True, correlation: 0.35\n",
      "feature NumUserRatings has p-value 0.0, significant: True, correlation: 0.34\n",
      "feature NumComments has p-value nan, significant: False, correlation: nan\n",
      "feature NumAlternates has p-value 0.0, significant: True, correlation: -0.08\n",
      "feature NumExpansions has p-value 0.0, significant: True, correlation: 0.11\n",
      "feature NumImplementations has p-value 0.0, significant: True, correlation: -0.05\n",
      "feature IsReimplementation has p-value 0.0, significant: True, correlation: 0.1\n",
      "feature Kickstarted has p-value 0.0, significant: True, correlation: 0.15\n",
      "feature Rank:boardgame has p-value 0.0, significant: True, correlation: -0.66\n",
      "feature Rank:strategygames has p-value 0.0, significant: True, correlation: -0.39\n",
      "feature Rank:abstracts has p-value 0.0, significant: True, correlation: 0.08\n",
      "feature Rank:familygames has p-value 0.0, significant: True, correlation: 0.1\n",
      "feature Rank:thematic has p-value 0.0, significant: True, correlation: -0.07\n",
      "feature Rank:cgs has p-value 0.0, significant: True, correlation: -0.04\n",
      "feature Rank:wargames has p-value 0.03, significant: True, correlation: -0.03\n",
      "feature Rank:partygames has p-value 0.0, significant: True, correlation: 0.16\n",
      "feature Rank:childrensgames has p-value 0.0, significant: True, correlation: 0.21\n",
      "feature Cat:Thematic has p-value 0.0, significant: True, correlation: 0.07\n",
      "feature Cat:Strategy has p-value 0.0, significant: True, correlation: 0.38\n",
      "feature Cat:War has p-value 0.11, significant: False, correlation: 0.02\n",
      "feature Cat:Family has p-value 0.0, significant: True, correlation: -0.11\n",
      "feature Cat:CGS has p-value 0.0, significant: True, correlation: 0.04\n",
      "feature Cat:Abstract has p-value 0.0, significant: True, correlation: -0.08\n",
      "feature Cat:Party has p-value 0.0, significant: True, correlation: -0.16\n",
      "feature Cat:Childrens has p-value 0.0, significant: True, correlation: -0.22\n",
      "feature median_rating has p-value 0.0, significant: True, correlation: 0.17\n",
      "feature avg_group_rating has p-value 0.0, significant: True, correlation: 1.0\n"
     ]
    },
    {
     "name": "stderr",
     "output_type": "stream",
     "text": [
      "/Library/Frameworks/Python.framework/Versions/3.10/lib/python3.10/site-packages/scipy/stats/_stats_py.py:4424: ConstantInputWarning: An input array is constant; the correlation coefficient is not defined.\n",
      "  warnings.warn(stats.ConstantInputWarning(msg))\n"
     ]
    }
   ],
   "source": [
    "sign_user_preferences = set(find_group_features(all_items, user_item_complete))"
   ]
  },
  {
   "cell_type": "code",
   "execution_count": 137,
   "id": "4dc4338a",
   "metadata": {},
   "outputs": [],
   "source": [
    "rating_features = ['AvgRating', 'BayesAvgRating', 'StdDev', 'avg_group_rating', 'median_rating']"
   ]
  },
  {
   "cell_type": "markdown",
   "id": "7580b7c2",
   "metadata": {},
   "source": [
    "### Item Features for Content-Based Filtering\n",
    "- the features which have correlation with an average rating more than 0.15 in absolute values\n",
    "- are not rating features\n",
    "- are statistically significant\n",
    "\n",
    "\n",
    "The features (19) were received:\n",
    "```\n",
    " 'Rank:boardgame',\n",
    " 'Rank:strategygames',\n",
    " 'Rank:childrensgames',\n",
    " 'Rank:partygames',\n",
    "\n",
    " 'NumWant',\n",
    " 'NumWish',\n",
    " 'NumUserRatings',\n",
    " 'NumOwned',\n",
    " 'NumWeightVotes',\n",
    "\n",
    " 'BestPlayers',\n",
    " 'GameWeight',\n",
    " 'ComAgeRec',\n",
    " 'Kickstarted',\n",
    " 'MinPlayers',\n",
    " 'LanguageEase',\n",
    " 'MfgAgeRec'\n",
    "\n",
    " 'Cat:Party',\n",
    " 'Cat:Childrens',\n",
    " 'Cat:Strategy',\n",
    " ```\n",
    "\n",
    "Based on the analysis of the correlation of similar features from the list, the following were discarded:\n",
    "\n",
    " `'NumWish', 'NumWeightVotes'`"
   ]
  },
  {
   "cell_type": "code",
   "execution_count": 69,
   "id": "a4f798be",
   "metadata": {},
   "outputs": [],
   "source": [
    "# item_matrix= all_items.drop(columns='user')\n",
    "# corr_matrix = item_matrix.corr()\n",
    "\n",
    "# plt.figure(figsize=(16,16))\n",
    "# sns.heatmap(corr_matrix)"
   ]
  },
  {
   "cell_type": "code",
   "execution_count": 142,
   "id": "8d29d440",
   "metadata": {},
   "outputs": [],
   "source": [
    "final_item_features = [f for f in (list(sign_user_preferences) + ['item','user']) if f not in rating_features + ['NumWish','NumWeightVotes']]"
   ]
  },
  {
   "cell_type": "code",
   "execution_count": 143,
   "id": "f7dfcfaf",
   "metadata": {},
   "outputs": [
    {
     "data": {
      "text/plain": [
       "20"
      ]
     },
     "execution_count": 143,
     "metadata": {},
     "output_type": "execute_result"
    }
   ],
   "source": [
    "len(final_item_features)"
   ]
  },
  {
   "cell_type": "markdown",
   "id": "7aab1386",
   "metadata": {},
   "source": [
    "## Content-based Filtering"
   ]
  },
  {
   "cell_type": "code",
   "execution_count": 144,
   "id": "72770590",
   "metadata": {},
   "outputs": [],
   "source": [
    "mechanics_features = ['mechanic_' + i if not i == 'BGGId' else i for i in item_mecahnics.columns]\n",
    "subcategory_features = ['subcategory_' + i if not i == 'BGGId' else i for i in item_subcategories.columns]\n",
    "theme_features = ['theme_' + i.split('_')[-1] if not i == 'BGGId' else i for i in item_themes.columns]\n",
    "\n",
    "item_mecahnics.columns = mechanics_features\n",
    "item_subcategories.columns = subcategory_features\n",
    "item_themes.columns = theme_features\n",
    "\n",
    "item_catalog = pd.merge(item_mecahnics, item_subcategories, on='BGGId', how='outer')\n",
    "item_catalog = pd.merge(item_catalog, item_themes, on='BGGId', how='outer')"
   ]
  },
  {
   "cell_type": "code",
   "execution_count": 147,
   "id": "4f029286",
   "metadata": {},
   "outputs": [],
   "source": [
    "user_item_selected = user_item_complete[final_item_features]\n",
    "user_item_all_features = pd.merge(user_item_selected, item_catalog, left_on='item', right_on='BGGId', how='left')"
   ]
  },
  {
   "cell_type": "code",
   "execution_count": 151,
   "id": "2d18e0f4",
   "metadata": {},
   "outputs": [
    {
     "data": {
      "text/plain": [
       "Index(['user'], dtype='object')"
      ]
     },
     "execution_count": 151,
     "metadata": {},
     "output_type": "execute_result"
    }
   ],
   "source": [
    "user_item_all_features.select_dtypes(include=['object']).columns"
   ]
  },
  {
   "cell_type": "code",
   "execution_count": 150,
   "id": "47f37e1e",
   "metadata": {},
   "outputs": [],
   "source": [
    "# nan_counts = user_item_all_features.isna().sum(axis=0)\n",
    "# nan_counts[nan_counts > 0]"
   ]
  },
  {
   "cell_type": "code",
   "execution_count": 152,
   "id": "ea7ccf5a",
   "metadata": {},
   "outputs": [],
   "source": [
    "all_user_names = user_item_all_features.user.unique()"
   ]
  },
  {
   "cell_type": "code",
   "execution_count": 233,
   "id": "48997977",
   "metadata": {},
   "outputs": [],
   "source": [
    "def generate_Xy_for_user(username, complete_df):\n",
    "    scaler = StandardScaler()\n",
    "    user_rated_items = complete_df[complete_df['user']==username]\n",
    "    X = user_rated_items.drop(columns=['user','rating', 'item'])\n",
    "    normalized_matrix = scaler.fit_transform(X)\n",
    "    X =  pd.DataFrame(normalized_matrix, columns=X.columns)\n",
    "    y = user_rated_items['rating']\n",
    "    return X,y"
   ]
  },
  {
   "cell_type": "code",
   "execution_count": 240,
   "id": "80aaf9ee",
   "metadata": {},
   "outputs": [],
   "source": [
    "X,y = generate_Xy_for_user(all_user_names[0],user_item_all_features[final_item_features])\n",
    "train_X, test_X, train_y, test_y = train_test_split(X,y,test_size=0.2, random_state=42)"
   ]
  },
  {
   "cell_type": "code",
   "execution_count": 241,
   "id": "927d2bdd",
   "metadata": {},
   "outputs": [
    {
     "data": {
      "text/html": [
       "<style>#sk-container-id-9 {color: black;background-color: white;}#sk-container-id-9 pre{padding: 0;}#sk-container-id-9 div.sk-toggleable {background-color: white;}#sk-container-id-9 label.sk-toggleable__label {cursor: pointer;display: block;width: 100%;margin-bottom: 0;padding: 0.3em;box-sizing: border-box;text-align: center;}#sk-container-id-9 label.sk-toggleable__label-arrow:before {content: \"▸\";float: left;margin-right: 0.25em;color: #696969;}#sk-container-id-9 label.sk-toggleable__label-arrow:hover:before {color: black;}#sk-container-id-9 div.sk-estimator:hover label.sk-toggleable__label-arrow:before {color: black;}#sk-container-id-9 div.sk-toggleable__content {max-height: 0;max-width: 0;overflow: hidden;text-align: left;background-color: #f0f8ff;}#sk-container-id-9 div.sk-toggleable__content pre {margin: 0.2em;color: black;border-radius: 0.25em;background-color: #f0f8ff;}#sk-container-id-9 input.sk-toggleable__control:checked~div.sk-toggleable__content {max-height: 200px;max-width: 100%;overflow: auto;}#sk-container-id-9 input.sk-toggleable__control:checked~label.sk-toggleable__label-arrow:before {content: \"▾\";}#sk-container-id-9 div.sk-estimator input.sk-toggleable__control:checked~label.sk-toggleable__label {background-color: #d4ebff;}#sk-container-id-9 div.sk-label input.sk-toggleable__control:checked~label.sk-toggleable__label {background-color: #d4ebff;}#sk-container-id-9 input.sk-hidden--visually {border: 0;clip: rect(1px 1px 1px 1px);clip: rect(1px, 1px, 1px, 1px);height: 1px;margin: -1px;overflow: hidden;padding: 0;position: absolute;width: 1px;}#sk-container-id-9 div.sk-estimator {font-family: monospace;background-color: #f0f8ff;border: 1px dotted black;border-radius: 0.25em;box-sizing: border-box;margin-bottom: 0.5em;}#sk-container-id-9 div.sk-estimator:hover {background-color: #d4ebff;}#sk-container-id-9 div.sk-parallel-item::after {content: \"\";width: 100%;border-bottom: 1px solid gray;flex-grow: 1;}#sk-container-id-9 div.sk-label:hover label.sk-toggleable__label {background-color: #d4ebff;}#sk-container-id-9 div.sk-serial::before {content: \"\";position: absolute;border-left: 1px solid gray;box-sizing: border-box;top: 0;bottom: 0;left: 50%;z-index: 0;}#sk-container-id-9 div.sk-serial {display: flex;flex-direction: column;align-items: center;background-color: white;padding-right: 0.2em;padding-left: 0.2em;position: relative;}#sk-container-id-9 div.sk-item {position: relative;z-index: 1;}#sk-container-id-9 div.sk-parallel {display: flex;align-items: stretch;justify-content: center;background-color: white;position: relative;}#sk-container-id-9 div.sk-item::before, #sk-container-id-9 div.sk-parallel-item::before {content: \"\";position: absolute;border-left: 1px solid gray;box-sizing: border-box;top: 0;bottom: 0;left: 50%;z-index: -1;}#sk-container-id-9 div.sk-parallel-item {display: flex;flex-direction: column;z-index: 1;position: relative;background-color: white;}#sk-container-id-9 div.sk-parallel-item:first-child::after {align-self: flex-end;width: 50%;}#sk-container-id-9 div.sk-parallel-item:last-child::after {align-self: flex-start;width: 50%;}#sk-container-id-9 div.sk-parallel-item:only-child::after {width: 0;}#sk-container-id-9 div.sk-dashed-wrapped {border: 1px dashed gray;margin: 0 0.4em 0.5em 0.4em;box-sizing: border-box;padding-bottom: 0.4em;background-color: white;}#sk-container-id-9 div.sk-label label {font-family: monospace;font-weight: bold;display: inline-block;line-height: 1.2em;}#sk-container-id-9 div.sk-label-container {text-align: center;}#sk-container-id-9 div.sk-container {/* jupyter's `normalize.less` sets `[hidden] { display: none; }` but bootstrap.min.css set `[hidden] { display: none !important; }` so we also need the `!important` here to be able to override the default hidden behavior on the sphinx rendered scikit-learn.org. See: https://github.com/scikit-learn/scikit-learn/issues/21755 */display: inline-block !important;position: relative;}#sk-container-id-9 div.sk-text-repr-fallback {display: none;}</style><div id=\"sk-container-id-9\" class=\"sk-top-container\"><div class=\"sk-text-repr-fallback\"><pre>SVR(kernel=&#x27;linear&#x27;)</pre><b>In a Jupyter environment, please rerun this cell to show the HTML representation or trust the notebook. <br />On GitHub, the HTML representation is unable to render, please try loading this page with nbviewer.org.</b></div><div class=\"sk-container\" hidden><div class=\"sk-item\"><div class=\"sk-estimator sk-toggleable\"><input class=\"sk-toggleable__control sk-hidden--visually\" id=\"sk-estimator-id-9\" type=\"checkbox\" checked><label for=\"sk-estimator-id-9\" class=\"sk-toggleable__label sk-toggleable__label-arrow\">SVR</label><div class=\"sk-toggleable__content\"><pre>SVR(kernel=&#x27;linear&#x27;)</pre></div></div></div></div></div>"
      ],
      "text/plain": [
       "SVR(kernel='linear')"
      ]
     },
     "execution_count": 241,
     "metadata": {},
     "output_type": "execute_result"
    }
   ],
   "source": [
    "svr = SVR(kernel='linear')\n",
    "svr.fit(train_X, train_y)"
   ]
  },
  {
   "cell_type": "code",
   "execution_count": 242,
   "id": "efd19191",
   "metadata": {},
   "outputs": [],
   "source": [
    "predicted_y = svr.predict(test_X)"
   ]
  },
  {
   "cell_type": "code",
   "execution_count": 243,
   "id": "d80c1460",
   "metadata": {},
   "outputs": [],
   "source": [
    "item_rating = test_y.to_frame().copy()\n",
    "item_rating['predicted'] = predicted_y"
   ]
  },
  {
   "cell_type": "markdown",
   "id": "e8949da6",
   "metadata": {},
   "source": [
    "### Evaluation"
   ]
  },
  {
   "cell_type": "code",
   "execution_count": 259,
   "id": "3dd230f8",
   "metadata": {},
   "outputs": [
    {
     "data": {
      "text/plain": [
       "1.0071672602782804"
      ]
     },
     "execution_count": 259,
     "metadata": {},
     "output_type": "execute_result"
    }
   ],
   "source": [
    "((item_rating['rating']-item_rating['predicted'])**2).mean(0)**0.5"
   ]
  },
  {
   "cell_type": "code",
   "execution_count": 260,
   "id": "024c94b7",
   "metadata": {},
   "outputs": [
    {
     "data": {
      "text/plain": [
       "0.8683237013327729"
      ]
     },
     "execution_count": 260,
     "metadata": {},
     "output_type": "execute_result"
    }
   ],
   "source": [
    "(abs(item_rating['rating']-item_rating['predicted'])).mean(0)"
   ]
  },
  {
   "cell_type": "code",
   "execution_count": null,
   "id": "b23a866e",
   "metadata": {},
   "outputs": [],
   "source": []
  }
 ],
 "metadata": {
  "kernelspec": {
   "display_name": "Python 3 (ipykernel)",
   "language": "python",
   "name": "python3"
  },
  "language_info": {
   "codemirror_mode": {
    "name": "ipython",
    "version": 3
   },
   "file_extension": ".py",
   "mimetype": "text/x-python",
   "name": "python",
   "nbconvert_exporter": "python",
   "pygments_lexer": "ipython3",
   "version": "3.10.0"
  }
 },
 "nbformat": 4,
 "nbformat_minor": 5
}
